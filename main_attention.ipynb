{
 "cells": [
  {
   "cell_type": "code",
   "execution_count": 1,
   "id": "7aa1248d-3edc-4c72-98e7-313fc1260e0f",
   "metadata": {},
   "outputs": [],
   "source": [
    "import torch\n",
    "import numpy as np\n",
    "import pandas as pd\n",
    "from torch import nn"
   ]
  },
  {
   "cell_type": "code",
   "execution_count": 2,
   "id": "df4cb328-21bf-4afc-b5fc-92e23a31d370",
   "metadata": {},
   "outputs": [],
   "source": [
    "# Dataset from https://www.kaggle.com/datasets/saurabhshahane/electricity-load-forecasting\n",
    "df = pd.read_csv('kaggle_electricity_load_forecasting_train.csv')\n",
    "df = df.set_index('datetime')"
   ]
  },
  {
   "cell_type": "code",
   "execution_count": 3,
   "id": "38d422b6-ff7a-4a29-b068-7bea4f4ce7fc",
   "metadata": {},
   "outputs": [],
   "source": [
    "data_output = np.array(df['nat_demand']).reshape(-1, 1)\n",
    "data_input = np.array(df[['T2M_toc', 'QV2M_toc','TQL_toc','W2M_toc']])"
   ]
  },
  {
   "cell_type": "code",
   "execution_count": 4,
   "id": "e64234d2-0ce5-496e-91cc-d742666b2c97",
   "metadata": {},
   "outputs": [],
   "source": [
    "data_output = torch.Tensor(data_output).cuda()\n",
    "data_input = torch.Tensor(data_input).cuda()"
   ]
  },
  {
   "cell_type": "code",
   "execution_count": 5,
   "id": "66760740-5759-4529-ab2f-31efc1691c1f",
   "metadata": {},
   "outputs": [
    {
     "name": "stdout",
     "output_type": "stream",
     "text": [
      "torch.Size([43775, 1]) torch.Size([43775, 4])\n"
     ]
    }
   ],
   "source": [
    "print(data_output.shape, data_input.shape)"
   ]
  },
  {
   "cell_type": "code",
   "execution_count": 37,
   "id": "a6f7d0e8-0c3f-4cad-8074-1200b4ad9b2a",
   "metadata": {},
   "outputs": [],
   "source": [
    "class AttentionNet(nn.Module):\n",
    "    def __init__(self, inp_size, out_size, linear_size=36):\n",
    "        super(AttentionNet, self).__init__()\n",
    "\n",
    "        self.inp_size = inp_size\n",
    "        self.linear_size = linear_size\n",
    "        self.out_size = out_size\n",
    "        \n",
    "        self.inp_lin = nn.Linear(self.inp_size, self.linear_size)\n",
    "        self.lin1 = nn.Linear(self.linear_size, self.linear_size)\n",
    "        self.lin2 = nn.Linear(self.linear_size, self.linear_size)\n",
    "        self.out_lin = nn.Linear(self.linear_size, self.out_size)\n",
    "    def forward(self, x):\n",
    "        x = self.inp_lin(x)\n",
    "        x1 = self.lin1(x)\n",
    "        x2 = self.lin2(x)\n",
    "        temp = torch.matmul(x1, torch.matmul(x2.transpose(-2, -1), x2))\n",
    "        x = self.out_lin(temp)\n",
    "        return x\n",
    "\n",
    "\n",
    "class DLFTNet(nn.Module):\n",
    "    def __init__(self, inp_size, out_size, linear_size=36):\n",
    "        super(DLFTNet, self).__init__()\n",
    "\n",
    "        self.inp_size = inp_size\n",
    "        self.linear_size = linear_size\n",
    "        self.out_size = out_size\n",
    "        \n",
    "        self.inp_lin = nn.Linear(self.inp_size, self.linear_size)\n",
    "        self.lin1 = nn.Linear(self.linear_size, self.linear_size)\n",
    "        self.out_lin = nn.Linear(self.linear_size ** 2, self.out_size)\n",
    "        \n",
    "    def forward(self, x):\n",
    "        x = self.inp_lin(x)\n",
    "        x1 = torch.fft.fft(x).real.view(-1, x.shape[1], 1)\n",
    "        x2 = self.lin1(x).view(-1, 1, x.shape[1])\n",
    "        temp = torch.matmul(x1, x2).reshape(-1, x.shape[1] ** 2)\n",
    "        x = self.out_lin(temp)\n",
    "        return x\n",
    "\n",
    "class MLPNet(nn.Module):\n",
    "    def __init__(self, inp_size, out_size, freq_domain=None, linear_size=36):\n",
    "        super(MLPNet, self).__init__()\n",
    "\n",
    "        self.inp_size = inp_size\n",
    "        self.linear_size = linear_size\n",
    "        self.out_size = out_size\n",
    "        self.freq_domain = freq_domain\n",
    "        \n",
    "        self.inp_lin = nn.Linear(self.inp_size, self.linear_size)\n",
    "        self.lin1 = nn.Linear(self.linear_size, self.linear_size)\n",
    "        self.out_lin = nn.Linear(self.linear_size, self.out_size)\n",
    "        \n",
    "    def forward(self, x):\n",
    "        x = self.inp_lin(x)\n",
    "        x1 = self.lin1(x)\n",
    "        x = self.out_lin(x1)\n",
    "        return x"
   ]
  },
  {
   "cell_type": "code",
   "execution_count": 19,
   "id": "ac9e192b-f58d-43db-b56d-2d6ab98239d7",
   "metadata": {},
   "outputs": [
    {
     "name": "stdout",
     "output_type": "stream",
     "text": [
      "0 1184.826416015625\n"
     ]
    },
    {
     "ename": "KeyboardInterrupt",
     "evalue": "",
     "output_type": "error",
     "traceback": [
      "\u001b[1;31m---------------------------------------------------------------------------\u001b[0m",
      "\u001b[1;31mKeyboardInterrupt\u001b[0m                         Traceback (most recent call last)",
      "Cell \u001b[1;32mIn[19], line 9\u001b[0m\n\u001b[0;32m      7\u001b[0m out \u001b[38;5;241m=\u001b[39m net(data_input)\n\u001b[0;32m      8\u001b[0m l \u001b[38;5;241m=\u001b[39m loss(out, data_output)\n\u001b[1;32m----> 9\u001b[0m \u001b[43ml\u001b[49m\u001b[38;5;241;43m.\u001b[39;49m\u001b[43mbackward\u001b[49m\u001b[43m(\u001b[49m\u001b[43m)\u001b[49m\n\u001b[0;32m     10\u001b[0m opti\u001b[38;5;241m.\u001b[39mstep()\n\u001b[0;32m     11\u001b[0m \u001b[38;5;28;01mif\u001b[39;00m i \u001b[38;5;241m%\u001b[39m \u001b[38;5;241m1000\u001b[39m \u001b[38;5;241m==\u001b[39m \u001b[38;5;241m0\u001b[39m :\n",
      "File \u001b[1;32m~\\miniconda3\\Lib\\site-packages\\torch\\_tensor.py:522\u001b[0m, in \u001b[0;36mTensor.backward\u001b[1;34m(self, gradient, retain_graph, create_graph, inputs)\u001b[0m\n\u001b[0;32m    512\u001b[0m \u001b[38;5;28;01mif\u001b[39;00m has_torch_function_unary(\u001b[38;5;28mself\u001b[39m):\n\u001b[0;32m    513\u001b[0m     \u001b[38;5;28;01mreturn\u001b[39;00m handle_torch_function(\n\u001b[0;32m    514\u001b[0m         Tensor\u001b[38;5;241m.\u001b[39mbackward,\n\u001b[0;32m    515\u001b[0m         (\u001b[38;5;28mself\u001b[39m,),\n\u001b[1;32m   (...)\u001b[0m\n\u001b[0;32m    520\u001b[0m         inputs\u001b[38;5;241m=\u001b[39minputs,\n\u001b[0;32m    521\u001b[0m     )\n\u001b[1;32m--> 522\u001b[0m \u001b[43mtorch\u001b[49m\u001b[38;5;241;43m.\u001b[39;49m\u001b[43mautograd\u001b[49m\u001b[38;5;241;43m.\u001b[39;49m\u001b[43mbackward\u001b[49m\u001b[43m(\u001b[49m\n\u001b[0;32m    523\u001b[0m \u001b[43m    \u001b[49m\u001b[38;5;28;43mself\u001b[39;49m\u001b[43m,\u001b[49m\u001b[43m \u001b[49m\u001b[43mgradient\u001b[49m\u001b[43m,\u001b[49m\u001b[43m \u001b[49m\u001b[43mretain_graph\u001b[49m\u001b[43m,\u001b[49m\u001b[43m \u001b[49m\u001b[43mcreate_graph\u001b[49m\u001b[43m,\u001b[49m\u001b[43m \u001b[49m\u001b[43minputs\u001b[49m\u001b[38;5;241;43m=\u001b[39;49m\u001b[43minputs\u001b[49m\n\u001b[0;32m    524\u001b[0m \u001b[43m\u001b[49m\u001b[43m)\u001b[49m\n",
      "File \u001b[1;32m~\\miniconda3\\Lib\\site-packages\\torch\\autograd\\__init__.py:266\u001b[0m, in \u001b[0;36mbackward\u001b[1;34m(tensors, grad_tensors, retain_graph, create_graph, grad_variables, inputs)\u001b[0m\n\u001b[0;32m    261\u001b[0m     retain_graph \u001b[38;5;241m=\u001b[39m create_graph\n\u001b[0;32m    263\u001b[0m \u001b[38;5;66;03m# The reason we repeat the same comment below is that\u001b[39;00m\n\u001b[0;32m    264\u001b[0m \u001b[38;5;66;03m# some Python versions print out the first line of a multi-line function\u001b[39;00m\n\u001b[0;32m    265\u001b[0m \u001b[38;5;66;03m# calls in the traceback and some print out the last line\u001b[39;00m\n\u001b[1;32m--> 266\u001b[0m \u001b[43mVariable\u001b[49m\u001b[38;5;241;43m.\u001b[39;49m\u001b[43m_execution_engine\u001b[49m\u001b[38;5;241;43m.\u001b[39;49m\u001b[43mrun_backward\u001b[49m\u001b[43m(\u001b[49m\u001b[43m  \u001b[49m\u001b[38;5;66;43;03m# Calls into the C++ engine to run the backward pass\u001b[39;49;00m\n\u001b[0;32m    267\u001b[0m \u001b[43m    \u001b[49m\u001b[43mtensors\u001b[49m\u001b[43m,\u001b[49m\n\u001b[0;32m    268\u001b[0m \u001b[43m    \u001b[49m\u001b[43mgrad_tensors_\u001b[49m\u001b[43m,\u001b[49m\n\u001b[0;32m    269\u001b[0m \u001b[43m    \u001b[49m\u001b[43mretain_graph\u001b[49m\u001b[43m,\u001b[49m\n\u001b[0;32m    270\u001b[0m \u001b[43m    \u001b[49m\u001b[43mcreate_graph\u001b[49m\u001b[43m,\u001b[49m\n\u001b[0;32m    271\u001b[0m \u001b[43m    \u001b[49m\u001b[43minputs\u001b[49m\u001b[43m,\u001b[49m\n\u001b[0;32m    272\u001b[0m \u001b[43m    \u001b[49m\u001b[43mallow_unreachable\u001b[49m\u001b[38;5;241;43m=\u001b[39;49m\u001b[38;5;28;43;01mTrue\u001b[39;49;00m\u001b[43m,\u001b[49m\n\u001b[0;32m    273\u001b[0m \u001b[43m    \u001b[49m\u001b[43maccumulate_grad\u001b[49m\u001b[38;5;241;43m=\u001b[39;49m\u001b[38;5;28;43;01mTrue\u001b[39;49;00m\u001b[43m,\u001b[49m\n\u001b[0;32m    274\u001b[0m \u001b[43m\u001b[49m\u001b[43m)\u001b[49m\n",
      "\u001b[1;31mKeyboardInterrupt\u001b[0m: "
     ]
    }
   ],
   "source": [
    "net = MLPNet(4, 1).cuda()\n",
    "opti = torch.optim.Adam(net.parameters(), lr=0.0001)\n",
    "loss = torch.nn.L1Loss().cuda()\n",
    "\n",
    "for i in range(0, 10000) :\n",
    "    opti.zero_grad()\n",
    "    out = net(data_input)\n",
    "    l = loss(out, data_output)\n",
    "    l.backward()\n",
    "    opti.step()\n",
    "    if i % 100 == 0 :\n",
    "        print(i, l.item())"
   ]
  },
  {
   "cell_type": "code",
   "execution_count": 12,
   "id": "06fd3772-d284-4c1c-80bb-cde90d66791f",
   "metadata": {},
   "outputs": [
    {
     "name": "stdout",
     "output_type": "stream",
     "text": [
      "0 13934369.0\n",
      "1000 7959.78125\n",
      "2000 6174.310546875\n",
      "3000 4901.47265625\n",
      "4000 3565.36767578125\n",
      "5000 2082.5166015625\n",
      "6000 1295.8763427734375\n",
      "7000 576.42822265625\n",
      "8000 165.900634765625\n",
      "9000 115.19146728515625\n"
     ]
    }
   ],
   "source": [
    "net = AttentionNet(4, 1).cuda()\n",
    "opti = torch.optim.Adam(net.parameters(), lr=0.0001)\n",
    "loss = torch.nn.L1Loss().cuda()\n",
    "\n",
    "for i in range(0, 10000) :\n",
    "    opti.zero_grad()\n",
    "    out = net(data_input)\n",
    "    l = loss(out, data_output)\n",
    "    l.backward()\n",
    "    opti.step()\n",
    "    if i % 100 == 0 :\n",
    "        print(i, l.item())"
   ]
  },
  {
   "cell_type": "code",
   "execution_count": 38,
   "id": "4502bd62-e4ee-4316-b083-cbe6d19d5ef0",
   "metadata": {},
   "outputs": [
    {
     "name": "stdout",
     "output_type": "stream",
     "text": [
      "0 1133.9453125\n",
      "1000 114.64875030517578\n",
      "2000 114.60354614257812\n",
      "3000 114.53772735595703\n",
      "4000 114.44965362548828\n"
     ]
    },
    {
     "ename": "KeyboardInterrupt",
     "evalue": "",
     "output_type": "error",
     "traceback": [
      "\u001b[1;31m---------------------------------------------------------------------------\u001b[0m",
      "\u001b[1;31mKeyboardInterrupt\u001b[0m                         Traceback (most recent call last)",
      "Cell \u001b[1;32mIn[38], line 9\u001b[0m\n\u001b[0;32m      7\u001b[0m out \u001b[38;5;241m=\u001b[39m net(data_input)\n\u001b[0;32m      8\u001b[0m l \u001b[38;5;241m=\u001b[39m loss(out, data_output)\n\u001b[1;32m----> 9\u001b[0m \u001b[43ml\u001b[49m\u001b[38;5;241;43m.\u001b[39;49m\u001b[43mbackward\u001b[49m\u001b[43m(\u001b[49m\u001b[43m)\u001b[49m\n\u001b[0;32m     10\u001b[0m opti\u001b[38;5;241m.\u001b[39mstep()\n\u001b[0;32m     11\u001b[0m \u001b[38;5;28;01mif\u001b[39;00m i \u001b[38;5;241m%\u001b[39m \u001b[38;5;241m1000\u001b[39m \u001b[38;5;241m==\u001b[39m \u001b[38;5;241m0\u001b[39m :\n",
      "File \u001b[1;32m~\\miniconda3\\Lib\\site-packages\\torch\\_tensor.py:522\u001b[0m, in \u001b[0;36mTensor.backward\u001b[1;34m(self, gradient, retain_graph, create_graph, inputs)\u001b[0m\n\u001b[0;32m    512\u001b[0m \u001b[38;5;28;01mif\u001b[39;00m has_torch_function_unary(\u001b[38;5;28mself\u001b[39m):\n\u001b[0;32m    513\u001b[0m     \u001b[38;5;28;01mreturn\u001b[39;00m handle_torch_function(\n\u001b[0;32m    514\u001b[0m         Tensor\u001b[38;5;241m.\u001b[39mbackward,\n\u001b[0;32m    515\u001b[0m         (\u001b[38;5;28mself\u001b[39m,),\n\u001b[1;32m   (...)\u001b[0m\n\u001b[0;32m    520\u001b[0m         inputs\u001b[38;5;241m=\u001b[39minputs,\n\u001b[0;32m    521\u001b[0m     )\n\u001b[1;32m--> 522\u001b[0m \u001b[43mtorch\u001b[49m\u001b[38;5;241;43m.\u001b[39;49m\u001b[43mautograd\u001b[49m\u001b[38;5;241;43m.\u001b[39;49m\u001b[43mbackward\u001b[49m\u001b[43m(\u001b[49m\n\u001b[0;32m    523\u001b[0m \u001b[43m    \u001b[49m\u001b[38;5;28;43mself\u001b[39;49m\u001b[43m,\u001b[49m\u001b[43m \u001b[49m\u001b[43mgradient\u001b[49m\u001b[43m,\u001b[49m\u001b[43m \u001b[49m\u001b[43mretain_graph\u001b[49m\u001b[43m,\u001b[49m\u001b[43m \u001b[49m\u001b[43mcreate_graph\u001b[49m\u001b[43m,\u001b[49m\u001b[43m \u001b[49m\u001b[43minputs\u001b[49m\u001b[38;5;241;43m=\u001b[39;49m\u001b[43minputs\u001b[49m\n\u001b[0;32m    524\u001b[0m \u001b[43m\u001b[49m\u001b[43m)\u001b[49m\n",
      "File \u001b[1;32m~\\miniconda3\\Lib\\site-packages\\torch\\autograd\\__init__.py:266\u001b[0m, in \u001b[0;36mbackward\u001b[1;34m(tensors, grad_tensors, retain_graph, create_graph, grad_variables, inputs)\u001b[0m\n\u001b[0;32m    261\u001b[0m     retain_graph \u001b[38;5;241m=\u001b[39m create_graph\n\u001b[0;32m    263\u001b[0m \u001b[38;5;66;03m# The reason we repeat the same comment below is that\u001b[39;00m\n\u001b[0;32m    264\u001b[0m \u001b[38;5;66;03m# some Python versions print out the first line of a multi-line function\u001b[39;00m\n\u001b[0;32m    265\u001b[0m \u001b[38;5;66;03m# calls in the traceback and some print out the last line\u001b[39;00m\n\u001b[1;32m--> 266\u001b[0m \u001b[43mVariable\u001b[49m\u001b[38;5;241;43m.\u001b[39;49m\u001b[43m_execution_engine\u001b[49m\u001b[38;5;241;43m.\u001b[39;49m\u001b[43mrun_backward\u001b[49m\u001b[43m(\u001b[49m\u001b[43m  \u001b[49m\u001b[38;5;66;43;03m# Calls into the C++ engine to run the backward pass\u001b[39;49;00m\n\u001b[0;32m    267\u001b[0m \u001b[43m    \u001b[49m\u001b[43mtensors\u001b[49m\u001b[43m,\u001b[49m\n\u001b[0;32m    268\u001b[0m \u001b[43m    \u001b[49m\u001b[43mgrad_tensors_\u001b[49m\u001b[43m,\u001b[49m\n\u001b[0;32m    269\u001b[0m \u001b[43m    \u001b[49m\u001b[43mretain_graph\u001b[49m\u001b[43m,\u001b[49m\n\u001b[0;32m    270\u001b[0m \u001b[43m    \u001b[49m\u001b[43mcreate_graph\u001b[49m\u001b[43m,\u001b[49m\n\u001b[0;32m    271\u001b[0m \u001b[43m    \u001b[49m\u001b[43minputs\u001b[49m\u001b[43m,\u001b[49m\n\u001b[0;32m    272\u001b[0m \u001b[43m    \u001b[49m\u001b[43mallow_unreachable\u001b[49m\u001b[38;5;241;43m=\u001b[39;49m\u001b[38;5;28;43;01mTrue\u001b[39;49;00m\u001b[43m,\u001b[49m\n\u001b[0;32m    273\u001b[0m \u001b[43m    \u001b[49m\u001b[43maccumulate_grad\u001b[49m\u001b[38;5;241;43m=\u001b[39;49m\u001b[38;5;28;43;01mTrue\u001b[39;49;00m\u001b[43m,\u001b[49m\n\u001b[0;32m    274\u001b[0m \u001b[43m\u001b[49m\u001b[43m)\u001b[49m\n",
      "\u001b[1;31mKeyboardInterrupt\u001b[0m: "
     ]
    }
   ],
   "source": [
    "net = DLFTNet(4, 1).cuda()\n",
    "opti = torch.optim.Adam(net.parameters(), lr=0.0001)\n",
    "loss = torch.nn.L1Loss().cuda()\n",
    "\n",
    "for i in range(0, 10000) :\n",
    "    opti.zero_grad()\n",
    "    out = net(data_input)\n",
    "    l = loss(out, data_output)\n",
    "    l.backward()\n",
    "    opti.step()\n",
    "    if i % 100 == 0 :\n",
    "        print(i, l.item())"
   ]
  }
 ],
 "metadata": {
  "kernelspec": {
   "display_name": "Python 3 (ipykernel)",
   "language": "python",
   "name": "python3"
  },
  "language_info": {
   "codemirror_mode": {
    "name": "ipython",
    "version": 3
   },
   "file_extension": ".py",
   "mimetype": "text/x-python",
   "name": "python",
   "nbconvert_exporter": "python",
   "pygments_lexer": "ipython3",
   "version": "3.12.2"
  }
 },
 "nbformat": 4,
 "nbformat_minor": 5
}
