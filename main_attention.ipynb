{
 "cells": [
  {
   "cell_type": "code",
   "execution_count": 1,
   "id": "7aa1248d-3edc-4c72-98e7-313fc1260e0f",
   "metadata": {},
   "outputs": [],
   "source": [
    "import torch\n",
    "import numpy as np\n",
    "import pandas as pd\n",
    "from torch import nn"
   ]
  },
  {
   "cell_type": "code",
   "execution_count": 2,
   "id": "df4cb328-21bf-4afc-b5fc-92e23a31d370",
   "metadata": {},
   "outputs": [],
   "source": [
    "# Dataset from https://www.kaggle.com/datasets/saurabhshahane/electricity-load-forecasting\n",
    "df = pd.read_csv('kaggle_electricity_load_forecasting_train.csv')\n",
    "df = df.set_index('datetime')"
   ]
  },
  {
   "cell_type": "code",
   "execution_count": 3,
   "id": "38d422b6-ff7a-4a29-b068-7bea4f4ce7fc",
   "metadata": {},
   "outputs": [],
   "source": [
    "data_output = np.array(df['nat_demand']).reshape(-1, 1)\n",
    "data_input = np.array(df[['T2M_toc', 'QV2M_toc','TQL_toc','W2M_toc']])"
   ]
  },
  {
   "cell_type": "code",
   "execution_count": 4,
   "id": "e64234d2-0ce5-496e-91cc-d742666b2c97",
   "metadata": {},
   "outputs": [],
   "source": [
    "data_output = torch.Tensor(data_output).cuda()\n",
    "data_input = torch.Tensor(data_input).cuda()"
   ]
  },
  {
   "cell_type": "code",
   "execution_count": 5,
   "id": "66760740-5759-4529-ab2f-31efc1691c1f",
   "metadata": {},
   "outputs": [
    {
     "name": "stdout",
     "output_type": "stream",
     "text": [
      "torch.Size([43775, 1]) torch.Size([43775, 4])\n"
     ]
    }
   ],
   "source": [
    "print(data_output.shape, data_input.shape)"
   ]
  },
  {
   "cell_type": "code",
   "execution_count": 6,
   "id": "a6f7d0e8-0c3f-4cad-8074-1200b4ad9b2a",
   "metadata": {},
   "outputs": [],
   "source": [
    "class AttentionNet(nn.Module):\n",
    "    def __init__(self, inp_size, out_size, linear_size=36):\n",
    "        super(AttentionNet, self).__init__()\n",
    "\n",
    "        self.inp_size = inp_size\n",
    "        self.linear_size = linear_size\n",
    "        self.out_size = out_size\n",
    "        \n",
    "        self.inp_lin = nn.Linear(self.inp_size, self.linear_size)\n",
    "        self.lin1 = nn.Linear(self.linear_size, self.linear_size)\n",
    "        self.lin2 = nn.Linear(self.linear_size, self.linear_size)\n",
    "        self.out_lin = nn.Linear(self.linear_size, self.out_size)\n",
    "    def forward(self, x):\n",
    "        x = self.inp_lin(x)\n",
    "        x1 = self.lin2(x)\n",
    "        x2 = self.lin2(x)\n",
    "        temp = torch.matmul(x1, torch.matmul(x2.transpose(-2, -1), x2))\n",
    "        x = self.out_lin(x)\n",
    "        return x\n",
    "\n",
    "\n",
    "class DLFTNet(nn.Module):\n",
    "    def __init__(self, inp_size, out_size, linear_size=36):\n",
    "        super(DLFTNet, self).__init__()\n",
    "\n",
    "        self.inp_size = inp_size\n",
    "        self.linear_size = linear_size\n",
    "        self.out_size = out_size\n",
    "        \n",
    "        self.inp_lin = nn.Linear(self.inp_size, self.linear_size)\n",
    "        self.out_lin = nn.Linear(self.linear_size, self.out_size)\n",
    "    def forward(self, x):\n",
    "        x = self.inp_lin(x)\n",
    "        x = torch.fft.fft(x).real\n",
    "        x = self.out_lin(x)\n",
    "        return x\n",
    "\n",
    "class MLPNet(nn.Module):\n",
    "    def __init__(self, inp_size, out_size, freq_domain=None, linear_size=36):\n",
    "        super(MLPNet, self).__init__()\n",
    "\n",
    "        self.inp_size = inp_size\n",
    "        self.linear_size = linear_size\n",
    "        self.out_size = out_size\n",
    "        self.freq_domain = freq_domain\n",
    "        \n",
    "        self.inp_lin = nn.Linear(self.inp_size, self.linear_size)\n",
    "        self.lin1 = nn.Linear(self.linear_size, self.linear_size)\n",
    "        self.out_lin = nn.Linear(self.linear_size, self.out_size)\n",
    "        \n",
    "    def forward(self, x):\n",
    "        x = self.inp_lin(x)\n",
    "        x1 = self.lin1(x)\n",
    "        x = self.out_lin(x)\n",
    "        return x"
   ]
  },
  {
   "cell_type": "code",
   "execution_count": 7,
   "id": "ac9e192b-f58d-43db-b56d-2d6ab98239d7",
   "metadata": {},
   "outputs": [
    {
     "name": "stderr",
     "output_type": "stream",
     "text": [
      "C:\\Users\\flyin\\miniconda3\\Lib\\site-packages\\tqdm\\auto.py:21: TqdmWarning: IProgress not found. Please update jupyter and ipywidgets. See https://ipywidgets.readthedocs.io/en/stable/user_install.html\n",
      "  from .autonotebook import tqdm as notebook_tqdm\n"
     ]
    },
    {
     "name": "stdout",
     "output_type": "stream",
     "text": [
      "0 1185.302001953125\n",
      "1000 1134.449951171875\n",
      "2000 1046.0831298828125\n",
      "3000 909.3234252929688\n",
      "4000 725.9102172851562\n",
      "5000 504.82080078125\n",
      "6000 294.20172119140625\n",
      "7000 207.03170776367188\n",
      "8000 189.46913146972656\n",
      "9000 178.40626525878906\n"
     ]
    }
   ],
   "source": [
    "net = MLPNet(4, 1).cuda()\n",
    "opti = torch.optim.Adam(net.parameters(), lr=0.0001)\n",
    "loss = torch.nn.L1Loss().cuda()\n",
    "\n",
    "for i in range(0, 10000) :\n",
    "    opti.zero_grad()\n",
    "    out = net(data_input)\n",
    "    l = loss(out, data_output)\n",
    "    l.backward()\n",
    "    opti.step()\n",
    "    if i % 1000 == 0 :\n",
    "        print(i, l.item())"
   ]
  },
  {
   "cell_type": "code",
   "execution_count": 8,
   "id": "06fd3772-d284-4c1c-80bb-cde90d66791f",
   "metadata": {},
   "outputs": [
    {
     "name": "stdout",
     "output_type": "stream",
     "text": [
      "0 1182.427978515625\n",
      "1000 1130.1849365234375\n",
      "2000 1031.293212890625\n",
      "3000 883.2610473632812\n",
      "4000 691.5526123046875\n",
      "5000 463.650634765625\n",
      "6000 259.7709655761719\n",
      "7000 190.357666015625\n",
      "8000 177.751220703125\n",
      "9000 167.99497985839844\n"
     ]
    }
   ],
   "source": [
    "net = AttentionNet(4, 1).cuda()\n",
    "opti = torch.optim.Adam(net.parameters(), lr=0.0001)\n",
    "loss = torch.nn.L1Loss().cuda()\n",
    "\n",
    "for i in range(0, 10000) :\n",
    "    opti.zero_grad()\n",
    "    out = net(data_input)\n",
    "    l = loss(out, data_output)\n",
    "    l.backward()\n",
    "    opti.step()\n",
    "    if i % 1000 == 0 :\n",
    "        print(i, l.item())"
   ]
  },
  {
   "cell_type": "code",
   "execution_count": 9,
   "id": "4502bd62-e4ee-4316-b083-cbe6d19d5ef0",
   "metadata": {},
   "outputs": [
    {
     "name": "stdout",
     "output_type": "stream",
     "text": [
      "0 1159.499267578125\n",
      "1000 888.193359375\n",
      "2000 372.638671875\n",
      "3000 171.71966552734375\n",
      "4000 158.98695373535156\n",
      "5000 146.78591918945312\n",
      "6000 137.71897888183594\n",
      "7000 132.97914123535156\n",
      "8000 131.42691040039062\n",
      "9000 131.1643829345703\n"
     ]
    }
   ],
   "source": [
    "net = DLFTNet(4, 1).cuda()\n",
    "opti = torch.optim.Adam(net.parameters(), lr=0.0001)\n",
    "loss = torch.nn.L1Loss().cuda()\n",
    "\n",
    "for i in range(0, 10000) :\n",
    "    opti.zero_grad()\n",
    "    out = net(data_input)\n",
    "    l = loss(out, data_output)\n",
    "    l.backward()\n",
    "    opti.step()\n",
    "    if i % 1000 == 0 :\n",
    "        print(i, l.item())"
   ]
  }
 ],
 "metadata": {
  "kernelspec": {
   "display_name": "Python 3 (ipykernel)",
   "language": "python",
   "name": "python3"
  },
  "language_info": {
   "codemirror_mode": {
    "name": "ipython",
    "version": 3
   },
   "file_extension": ".py",
   "mimetype": "text/x-python",
   "name": "python",
   "nbconvert_exporter": "python",
   "pygments_lexer": "ipython3",
   "version": "3.12.2"
  }
 },
 "nbformat": 4,
 "nbformat_minor": 5
}
